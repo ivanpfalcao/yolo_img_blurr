{
  "cells": [
    {
      "cell_type": "code",
      "execution_count": null,
      "metadata": {
        "id": "ZPAEAarQTndq"
      },
      "outputs": [],
      "source": [
        "#!rm -rf /content/detect_test"
      ]
    },
    {
      "cell_type": "code",
      "execution_count": null,
      "metadata": {
        "colab": {
          "base_uri": "https://localhost:8080/"
        },
        "id": "7FlmSqLkJFsq",
        "outputId": "fac1f57b-9a72-4a78-8101-cb5c8b343943"
      },
      "outputs": [],
      "source": [
        "!pip install ultralytics\n",
        "!pip install opencv-python\n",
        "!pip install pillow\n",
        "!pip install matplotlib"
      ]
    },
    {
      "cell_type": "code",
      "execution_count": 1,
      "metadata": {
        "colab": {
          "base_uri": "https://localhost:8080/"
        },
        "id": "ZsxefF9KJI9t",
        "outputId": "0892f400-c747-431d-c8d9-63695477356a"
      },
      "outputs": [
        {
          "name": "stdout",
          "output_type": "stream",
          "text": [
            "\n",
            "image 1/1 /mnt/c/projects/py_blurr/teste/DUH27ZB3JZL4FLRJXF4BMWD3XQ.jpg: 352x640 1 placa, 60.5ms\n",
            "Speed: 18.8ms preprocess, 60.5ms inference, 487.3ms postprocess per image at shape (1, 3, 352, 640)\n",
            "Results saved to \u001b[1m/mnt/c/projects/py_blurr/detect_test/test\u001b[0m\n"
          ]
        }
      ],
      "source": [
        "from ultralytics import YOLO\n",
        "model = YOLO('/mnt/c/projects/py_blurr/runs/detect/train/weights/best.pt')\n",
        "results = model.predict(source='/mnt/c/projects/py_blurr/teste/DUH27ZB3JZL4FLRJXF4BMWD3XQ.jpg'\n",
        "  , save=True\n",
        "  , show=True\n",
        "  , project='detect_test'\n",
        "  , name='test'\n",
        "  , exist_ok=True\n",
        "\n",
        "  )"
      ]
    },
    {
      "cell_type": "code",
      "execution_count": null,
      "metadata": {},
      "outputs": [],
      "source": [
        "import cv2\n",
        "\n",
        "# Load the original image with OpenCV\n",
        "image_path = '/mnt/c/projects/py_blurr/teste/DUH27ZB3JZL4FLRJXF4BMWD3XQ.jpg'\n",
        "image = cv2.imread(image_path)\n",
        "\n",
        "# Iterate through the results to get bounding boxes\n",
        "for r in results:\n",
        "    for box in r.boxes:\n",
        "        # Get the bounding box coordinates\n",
        "        x1, y1, x2, y2 = box.xyxy[0].int().tolist()\n",
        "\n",
        "        # Define the region of interest (ROI)\n",
        "        roi = image[y1:y2, x1:x2]\n",
        "        \n",
        "        # Apply a Gaussian blur to the ROI\n",
        "        blurred_roi = cv2.GaussianBlur(roi, (99, 99), 0)\n",
        "        \n",
        "        # Replace the original ROI with the blurred ROI\n",
        "        image[y1:y2, x1:x2] = blurred_roi\n",
        "\n",
        "# Save the final blurred image\n",
        "output_path = 'blurred_image.jpg'\n",
        "cv2.imwrite(output_path, image)\n",
        "\n",
        "# Display the image (optional)\n",
        "cv2.imshow('Blurred Image', image)\n",
        "cv2.waitKey(0)\n",
        "cv2.destroyAllWindows()\n",
        "\n",
        "print(f\"Blurred image saved to {output_path}\")"
      ]
    }
  ],
  "metadata": {
    "colab": {
      "provenance": []
    },
    "kernelspec": {
      "display_name": "Python 3",
      "name": "python3"
    },
    "language_info": {
      "codemirror_mode": {
        "name": "ipython",
        "version": 3
      },
      "file_extension": ".py",
      "mimetype": "text/x-python",
      "name": "python",
      "nbconvert_exporter": "python",
      "pygments_lexer": "ipython3",
      "version": "3.12.11"
    }
  },
  "nbformat": 4,
  "nbformat_minor": 0
}
